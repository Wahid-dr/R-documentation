{
  "cells": [
    {
      "cell_type": "markdown",
      "metadata": {
        "id": "view-in-github",
        "colab_type": "text"
      },
      "source": [
        "<a href=\"https://colab.research.google.com/github/Wahid-dr/R-documentation/blob/master/Copy_of_RSSRDRD.ipynb\" target=\"_parent\"><img src=\"https://colab.research.google.com/assets/colab-badge.svg\" alt=\"Open In Colab\"/></a>"
      ]
    },
    {
      "cell_type": "code",
      "source": [
        "install.packages(\"googledrive\")"
      ],
      "metadata": {
        "id": "9oviSjZLp0sb"
      },
      "execution_count": null,
      "outputs": []
    },
    {
      "cell_type": "code",
      "source": [
        "library(googledrive)"
      ],
      "metadata": {
        "id": "SmDcQBqtqLrW"
      },
      "execution_count": 2,
      "outputs": []
    },
    {
      "cell_type": "code",
      "source": [
        "install.packages(\"httpuv\")"
      ],
      "metadata": {
        "id": "zPF9DLfrqQ8j"
      },
      "execution_count": null,
      "outputs": []
    },
    {
      "cell_type": "code",
      "source": [
        "library(httpuv)"
      ],
      "metadata": {
        "id": "gnVfm-cOrhze"
      },
      "execution_count": 4,
      "outputs": []
    },
    {
      "cell_type": "code",
      "source": [
        "install.packages(\"R.utils\")"
      ],
      "metadata": {
        "id": "OnuSjlmnrmfj"
      },
      "execution_count": null,
      "outputs": []
    },
    {
      "cell_type": "code",
      "source": [
        "library(R.utils)"
      ],
      "metadata": {
        "id": "5ezQG7Ctr6GN"
      },
      "execution_count": 7,
      "outputs": []
    },
    {
      "cell_type": "code",
      "execution_count": 8,
      "metadata": {
        "id": "6qYNd6d5OEgE",
        "colab": {
          "base_uri": "https://localhost:8080/"
        },
        "outputId": "1212674e-7f41-4ad9-a217-08f4a59d85ed"
      },
      "outputs": [
        {
          "output_type": "stream",
          "name": "stderr",
          "text": [
            "Installing package into ‘/usr/local/lib/R/site-library’\n",
            "(as ‘lib’ is unspecified)\n",
            "\n",
            "also installing the dependencies ‘htmlwidgets’, ‘iterators’, ‘minpack.lm’, ‘scatterplot3d’, ‘rgl’, ‘doParallel’, ‘foreach’, ‘gmp’, ‘Rmpfr’, ‘ECOSolveR’, ‘scs’, ‘osqp’, ‘RcppEigen’, ‘rbibutils’, ‘Rtsne’, ‘labdsv’, ‘shapes’, ‘fastcluster’, ‘dbscan’, ‘ADMM’, ‘CVXR’, ‘RANN’, ‘RcppDE’, ‘Rdpack’, ‘RSpectra’, ‘maotai’, ‘mclustcomp’, ‘RcppArmadillo’, ‘RcppDist’\n",
            "\n",
            "\n",
            "Warning message in install.packages(\"Rdimtools\"):\n",
            "“installation of package ‘gmp’ had non-zero exit status”\n",
            "Warning message in install.packages(\"Rdimtools\"):\n",
            "“installation of package ‘Rmpfr’ had non-zero exit status”\n",
            "Warning message in install.packages(\"Rdimtools\"):\n",
            "“installation of package ‘CVXR’ had non-zero exit status”\n",
            "Warning message in install.packages(\"Rdimtools\"):\n",
            "“installation of package ‘Rdimtools’ had non-zero exit status”\n"
          ]
        }
      ],
      "source": [
        "install.packages(\"Rdimtools\")"
      ]
    },
    {
      "cell_type": "code",
      "source": [
        "install.packages(\"installr\")"
      ],
      "metadata": {
        "id": "X4M_74F4wB6i"
      },
      "execution_count": null,
      "outputs": []
    },
    {
      "cell_type": "code",
      "source": [
        "library(installr)"
      ],
      "metadata": {
        "id": "wWisEzdqwNyM"
      },
      "execution_count": null,
      "outputs": []
    },
    {
      "cell_type": "code",
      "source": [
        "library(devtools)"
      ],
      "metadata": {
        "colab": {
          "base_uri": "https://localhost:8080/"
        },
        "id": "1QAnDxr2vqmq",
        "outputId": "c63ce526-fd64-4740-c5a6-9bb89cb96690"
      },
      "execution_count": null,
      "outputs": [
        {
          "output_type": "stream",
          "name": "stderr",
          "text": [
            "Loading required package: usethis\n",
            "\n"
          ]
        }
      ]
    },
    {
      "cell_type": "code",
      "source": [
        "library(Rdimtools)"
      ],
      "metadata": {
        "id": "-n1IQMg5rym2"
      },
      "execution_count": null,
      "outputs": []
    },
    {
      "cell_type": "code",
      "source": [
        "install.packages(\"gmp\", repo = \"https://lib.ugent.be/CRAN\")"
      ],
      "metadata": {
        "id": "xMqCzmCvtumC"
      },
      "execution_count": null,
      "outputs": []
    },
    {
      "cell_type": "code",
      "source": [
        "library(gmp)"
      ],
      "metadata": {
        "id": "zRyRG7AesCuS"
      },
      "execution_count": null,
      "outputs": []
    },
    {
      "cell_type": "code",
      "execution_count": null,
      "metadata": {
        "id": "6h-h5dAuSeic"
      },
      "outputs": [],
      "source": [
        "library(Rdimtools)"
      ]
    },
    {
      "cell_type": "code",
      "execution_count": null,
      "metadata": {
        "id": "hxzAK3Z3TT8m"
      },
      "outputs": [],
      "source": [
        "library(devtools)"
      ]
    },
    {
      "cell_type": "code",
      "source": [
        "install.packages(\"Rmpfr\", ,dependencies=TRUE)"
      ],
      "metadata": {
        "id": "WZzbq5WsrU9Z"
      },
      "execution_count": null,
      "outputs": []
    },
    {
      "cell_type": "code",
      "source": [
        "library(Tidyverse)"
      ],
      "metadata": {
        "id": "m-IPPcKL0MSS"
      },
      "execution_count": null,
      "outputs": []
    },
    {
      "cell_type": "code",
      "source": [
        "install.packages(\"Rdimtools\",verbose=T, keep_outputs=T) "
      ],
      "metadata": {
        "id": "CrYW9Hke09j5"
      },
      "execution_count": null,
      "outputs": []
    },
    {
      "cell_type": "code",
      "execution_count": null,
      "metadata": {
        "id": "gz6ytzLpWG26"
      },
      "outputs": [],
      "source": [
        "devtools::install_github(\"cran/Rmpfr\")"
      ]
    },
    {
      "cell_type": "code",
      "source": [
        "devtools::install_github(\"hadley/devtools\")"
      ],
      "metadata": {
        "id": "KieE2lqc2zDJ"
      },
      "execution_count": null,
      "outputs": []
    },
    {
      "cell_type": "code",
      "execution_count": null,
      "metadata": {
        "id": "kfPKxmvuXo4G"
      },
      "outputs": [],
      "source": [
        "library(Rdimtools)"
      ]
    },
    {
      "cell_type": "code",
      "execution_count": null,
      "metadata": {
        "id": "XjUKLPXDiLy_"
      },
      "outputs": [],
      "source": [
        "install.packages(\"Rdimtools\")"
      ]
    },
    {
      "cell_type": "code",
      "source": [
        "help(package = \"Rdimtools\")"
      ],
      "metadata": {
        "id": "EIRC7NVXTemk"
      },
      "execution_count": null,
      "outputs": []
    },
    {
      "cell_type": "code",
      "execution_count": null,
      "metadata": {
        "id": "NHZ1Gp2LxUoU"
      },
      "outputs": [],
      "source": [
        "library(MASS)"
      ]
    },
    {
      "cell_type": "code",
      "execution_count": null,
      "metadata": {
        "id": "nMYtOh5HxZNJ"
      },
      "outputs": [],
      "source": [
        "library(mvtnorm)"
      ]
    },
    {
      "cell_type": "code",
      "execution_count": null,
      "metadata": {
        "id": "osa4AMSAxv1w"
      },
      "outputs": [],
      "source": [
        "library(Matrix)"
      ]
    },
    {
      "cell_type": "code",
      "execution_count": null,
      "metadata": {
        "id": "_ZnGMStdx-Wo"
      },
      "outputs": [],
      "source": [
        "library(ISLR)"
      ]
    },
    {
      "cell_type": "code",
      "execution_count": null,
      "metadata": {
        "id": "mfHiEuuUyNob"
      },
      "outputs": [],
      "source": [
        "library(SIS)"
      ]
    },
    {
      "cell_type": "code",
      "execution_count": null,
      "metadata": {
        "id": "bGkFSFjJzV1-"
      },
      "outputs": [],
      "source": [
        "library(stats)"
      ]
    },
    {
      "cell_type": "code",
      "execution_count": null,
      "metadata": {
        "id": "AaDatkuLzcml"
      },
      "outputs": [],
      "source": [
        "library(robustbase)"
      ]
    },
    {
      "cell_type": "code",
      "execution_count": null,
      "metadata": {
        "id": "tG8OWFaUz81U"
      },
      "outputs": [],
      "source": [
        "library(igraph)"
      ]
    },
    {
      "cell_type": "code",
      "execution_count": null,
      "metadata": {
        "id": "Af9oMiuJ0t3T"
      },
      "outputs": [],
      "source": [
        "library(cccd)"
      ]
    },
    {
      "cell_type": "code",
      "execution_count": null,
      "metadata": {
        "id": "_froTJlm1D7w"
      },
      "outputs": [],
      "source": [
        "library(rrcov)"
      ]
    },
    {
      "cell_type": "code",
      "execution_count": null,
      "metadata": {
        "id": "rg307e4u1kU8"
      },
      "outputs": [],
      "source": [
        "library(R.matlab)"
      ]
    },
    {
      "cell_type": "code",
      "execution_count": null,
      "metadata": {
        "id": "IYNp8XDP2Nbt"
      },
      "outputs": [],
      "source": [
        "library(Rdimtools)"
      ]
    },
    {
      "cell_type": "code",
      "execution_count": null,
      "metadata": {
        "id": "-eOw8-CNqiS9"
      },
      "outputs": [],
      "source": [
        "library(mvtnorm)\n",
        "library(MASS)\n",
        "library(Matrix)\n",
        "library(ISLR)\n",
        "library(SIS)\n",
        "library(stats)\n",
        "library(robustbase)\n",
        "library(igraph)\n",
        "library(cccd)\n",
        "library(rrcov);\n",
        "library(R.matlab)"
      ]
    },
    {
      "cell_type": "code",
      "execution_count": null,
      "metadata": {
        "id": "9bA2ZwBbsFRW"
      },
      "outputs": [],
      "source": [
        "source(\"E:/Robust GRFS/Abdul function/similarity.R\")"
      ]
    },
    {
      "cell_type": "code",
      "execution_count": null,
      "metadata": {
        "id": "Vj2_r49oHiPv"
      },
      "outputs": [],
      "source": [
        "install.packages(\"robustbase\")"
      ]
    },
    {
      "cell_type": "code",
      "execution_count": null,
      "metadata": {
        "id": "hyZEjSYyHtUQ"
      },
      "outputs": [],
      "source": [
        "library(robustbase)"
      ]
    },
    {
      "cell_type": "code",
      "execution_count": null,
      "metadata": {
        "id": "D5yhQtE2ELP_"
      },
      "outputs": [],
      "source": [
        "source(\"/dweight.R\")"
      ]
    },
    {
      "cell_type": "code",
      "execution_count": null,
      "metadata": {
        "id": "_wjPnT6GH5ZD"
      },
      "outputs": [],
      "source": [
        "source(\"/hweight.R\")"
      ]
    },
    {
      "cell_type": "code",
      "execution_count": null,
      "metadata": {
        "id": "THCWMbzFIoka"
      },
      "outputs": [],
      "source": [
        "source(\"/rdim1.R\")"
      ]
    },
    {
      "cell_type": "code",
      "execution_count": null,
      "metadata": {
        "id": "xKWmiopJJPnH"
      },
      "outputs": [],
      "source": [
        "source(\"/rdim2.R\")"
      ]
    },
    {
      "cell_type": "code",
      "execution_count": null,
      "metadata": {
        "id": "R8oC9MuzJXKL"
      },
      "outputs": [],
      "source": [
        "source(\"/rdim3.R\")"
      ]
    },
    {
      "cell_type": "code",
      "execution_count": null,
      "metadata": {
        "id": "857OB-5vLcd6"
      },
      "outputs": [],
      "source": [
        "source(\"/rdim4.R\")"
      ]
    },
    {
      "cell_type": "code",
      "execution_count": null,
      "metadata": {
        "id": "GrCMxJfZLh6w"
      },
      "outputs": [],
      "source": [
        "source(\"/rdim5.R\")"
      ]
    },
    {
      "cell_type": "code",
      "execution_count": null,
      "metadata": {
        "id": "Hgdmn0wFL3la"
      },
      "outputs": [],
      "source": [
        "source(\"/rdim6.R\")"
      ]
    },
    {
      "cell_type": "code",
      "execution_count": null,
      "metadata": {
        "id": "BxmpxAaTMQZo"
      },
      "outputs": [],
      "source": [
        "source(\"/rdim7.R\")"
      ]
    },
    {
      "cell_type": "code",
      "execution_count": null,
      "metadata": {
        "id": "n1vldp7hMj2i"
      },
      "outputs": [],
      "source": [
        "source(\"/rdim8.R\")"
      ]
    },
    {
      "cell_type": "code",
      "execution_count": null,
      "metadata": {
        "id": "mBBWgCJCNNae"
      },
      "outputs": [],
      "source": [
        "source(\"/rdim9.R\")"
      ]
    },
    {
      "cell_type": "code",
      "execution_count": null,
      "metadata": {
        "id": "XizOF-EYNzir"
      },
      "outputs": [],
      "source": [
        "source(\"/mcfs.R\")"
      ]
    },
    {
      "cell_type": "code",
      "execution_count": null,
      "metadata": {
        "id": "oZCLqiwiPFfs"
      },
      "outputs": [],
      "source": [
        "source(\"/spec.R\")"
      ]
    },
    {
      "cell_type": "code",
      "execution_count": null,
      "metadata": {
        "id": "yYE4DbBLPLx6"
      },
      "outputs": [],
      "source": [
        "X <- matrix(rnorm(100),20,5)"
      ]
    },
    {
      "cell_type": "code",
      "execution_count": null,
      "metadata": {
        "colab": {
          "base_uri": "https://localhost:8080/",
          "height": 34
        },
        "id": "Az5mOltYPkbo",
        "outputId": "2194eefc-8847-4c96-c7d6-f1c850ef8746"
      },
      "outputs": [
        {
          "output_type": "display_data",
          "data": {
            "text/html": [
              "<style>\n",
              ".list-inline {list-style: none; margin:0; padding: 0}\n",
              ".list-inline>li {display: inline-block}\n",
              ".list-inline>li:not(:last-child)::after {content: \"\\00b7\"; padding: 0 .5ex}\n",
              "</style>\n",
              "<ol class=list-inline><li>20</li><li>5</li></ol>\n"
            ],
            "text/markdown": "1. 20\n2. 5\n\n\n",
            "text/latex": "\\begin{enumerate*}\n\\item 20\n\\item 5\n\\end{enumerate*}\n",
            "text/plain": [
              "[1] 20  5"
            ]
          },
          "metadata": {}
        }
      ],
      "source": [
        "dim(X)"
      ]
    },
    {
      "cell_type": "code",
      "source": [
        "NULL"
      ],
      "metadata": {
        "colab": {
          "base_uri": "https://localhost:8080/",
          "height": 34
        },
        "id": "wIT0-bf4khYH",
        "outputId": "2f7ba623-486c-4270-aa77-f741a20c57ad"
      },
      "execution_count": null,
      "outputs": [
        {
          "output_type": "display_data",
          "data": {
            "text/plain": [
              "NULL"
            ]
          },
          "metadata": {}
        }
      ]
    },
    {
      "cell_type": "code",
      "execution_count": null,
      "metadata": {
        "id": "HsuNh4nqPn1f"
      },
      "outputs": [],
      "source": [
        "modmcfs <- do.mcfs(X,ndim = 2,type = c(\"proportion\", 0.1),preprocess =  \"center\",K = 2,lambda = 0.45,t = 0.5);"
      ]
    }
  ],
  "metadata": {
    "colab": {
      "provenance": [],
      "authorship_tag": "ABX9TyOVw7OJdH4TIRtyIZ0v4zzc",
      "include_colab_link": true
    },
    "kernelspec": {
      "display_name": "R",
      "name": "ir"
    },
    "language_info": {
      "name": "R"
    }
  },
  "nbformat": 4,
  "nbformat_minor": 0
}